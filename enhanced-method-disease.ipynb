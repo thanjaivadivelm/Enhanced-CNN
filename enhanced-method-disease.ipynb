{
 "cells": [
  {
   "cell_type": "code",
   "execution_count": 1,
   "metadata": {
    "_cell_guid": "b1076dfc-b9ad-4769-8c92-a6c4dae69d19",
    "_uuid": "8f2839f25d086af736a60e9eeb907d3b93b6e0e5",
    "execution": {
     "iopub.execute_input": "2022-01-21T06:23:57.999899Z",
     "iopub.status.busy": "2022-01-21T06:23:57.999480Z",
     "iopub.status.idle": "2022-01-21T06:24:05.036574Z",
     "shell.execute_reply": "2022-01-21T06:24:05.035796Z",
     "shell.execute_reply.started": "2022-01-21T06:23:57.999852Z"
    }
   },
   "outputs": [
    {
     "name": "stderr",
     "output_type": "stream",
     "text": [
      "Using TensorFlow backend.\n"
     ]
    }
   ],
   "source": [
    "import tensorflow as tf\n",
    "\n",
    "\n",
    "import cv2\n",
    "%matplotlib inline\n",
    "from matplotlib import pyplot as plt\n",
    "import numpy as np\n",
    "import os\n",
    "import matplotlib.image as mpimg\n",
    "from keras.models import Sequential\n",
    "from keras.layers.convolutional import Conv2D\n",
    "from keras.layers.convolutional import MaxPooling2D\n",
    "from keras.layers.core import Activation, Flatten, Dropout, Dense\n",
    "from keras.layers.normalization import BatchNormalization\n",
    "from sklearn.model_selection import train_test_split\n",
    "from keras.preprocessing.image import ImageDataGenerator\n",
    "from sklearn.preprocessing import LabelBinarizer"
   ]
  },
  {
   "cell_type": "code",
   "execution_count": 2,
   "metadata": {
    "_cell_guid": "79c7e3d0-c299-4dcb-8224-4455121ee9b0",
    "_uuid": "d629ff2d2480ee46fbb7e2d37f6b5fab8052498a",
    "execution": {
     "iopub.execute_input": "2022-01-21T06:24:05.038824Z",
     "iopub.status.busy": "2022-01-21T06:24:05.038537Z",
     "iopub.status.idle": "2022-01-21T06:24:05.045330Z",
     "shell.execute_reply": "2022-01-21T06:24:05.044520Z",
     "shell.execute_reply.started": "2022-01-21T06:24:05.038789Z"
    }
   },
   "outputs": [],
   "source": [
    "EPOCHS = 100\n",
    "INIT_LR = 1e-3\n",
    "#to avoid crashing due to less ram\n",
    "BS = 1000\n",
    "default_image_size = tuple((220,220))\n",
    "width=220\n",
    "height=220\n",
    "depth=3\n",
    "inputShape=(220,220,3)\n",
    "\n",
    "\n",
    "labels=['Tomato___Late_blight',\n",
    " 'Tomato___healthy',\n",
    " 'Tomato___Early_blight',\n",
    " 'Tomato___Septoria_leaf_spot',\n",
    " 'Tomato___Tomato_Yellow_Leaf_Curl_Virus',\n",
    " 'Tomato___Bacterial_spot',\n",
    " 'Tomato___Target_Spot',\n",
    " 'Tomato___Tomato_mosaic_virus',\n",
    " 'Tomato___Leaf_Mold',\n",
    " 'Tomato___Spider_mites Two-spotted_spider_mite']\n"
   ]
  },
  {
   "cell_type": "code",
   "execution_count": 3,
   "metadata": {
    "execution": {
     "iopub.execute_input": "2022-01-21T06:24:05.047376Z",
     "iopub.status.busy": "2022-01-21T06:24:05.046851Z",
     "iopub.status.idle": "2022-01-21T06:24:05.065568Z",
     "shell.execute_reply": "2022-01-21T06:24:05.064798Z",
     "shell.execute_reply.started": "2022-01-21T06:24:05.047341Z"
    }
   },
   "outputs": [
    {
     "data": {
      "text/plain": [
       "['Tomato___Late_blight',\n",
       " 'Tomato___healthy',\n",
       " 'Tomato___Early_blight',\n",
       " 'Tomato___Septoria_leaf_spot',\n",
       " 'Tomato___Tomato_Yellow_Leaf_Curl_Virus',\n",
       " 'Tomato___Bacterial_spot',\n",
       " 'Tomato___Target_Spot',\n",
       " 'Tomato___Tomato_mosaic_virus',\n",
       " 'Tomato___Leaf_Mold',\n",
       " 'Tomato___Spider_mites Two-spotted_spider_mite']"
      ]
     },
     "execution_count": 3,
     "metadata": {},
     "output_type": "execute_result"
    }
   ],
   "source": [
    "TRAIN_DIR=\"/kaggle/input/tomatoleaf/tomato/train/\"\n",
    "os.listdir(TRAIN_DIR)"
   ]
  },
  {
   "cell_type": "code",
   "execution_count": 4,
   "metadata": {
    "execution": {
     "iopub.execute_input": "2022-01-21T06:24:05.067536Z",
     "iopub.status.busy": "2022-01-21T06:24:05.067250Z",
     "iopub.status.idle": "2022-01-21T06:24:05.073560Z",
     "shell.execute_reply": "2022-01-21T06:24:05.072408Z",
     "shell.execute_reply.started": "2022-01-21T06:24:05.067504Z"
    }
   },
   "outputs": [],
   "source": [
    "def img_to_np(DIR,flatten=True):\n",
    "  #canny edge detection by resizing\n",
    "  cv_img=mpimg.imread(DIR,0)\n",
    "  cv_img=cv2.resize(cv_img,default_image_size)\n",
    "  img = np.uint8(cv_img)\n",
    "  #img = np.uint8((0.2126 * img[:,:,0]) + np.uint8(0.7152 * img[:,:,1]) + np.uint8(0.0722 * img[:,:,2]))\n",
    "  #flatten it\n",
    "  if(flatten):\n",
    "    img=img.flatten()\n",
    "  return img"
   ]
  },
  {
   "cell_type": "code",
   "execution_count": 5,
   "metadata": {
    "execution": {
     "iopub.execute_input": "2022-01-21T06:24:05.077455Z",
     "iopub.status.busy": "2022-01-21T06:24:05.077161Z",
     "iopub.status.idle": "2022-01-21T06:25:05.628896Z",
     "shell.execute_reply": "2022-01-21T06:25:05.628021Z",
     "shell.execute_reply.started": "2022-01-21T06:24:05.077422Z"
    }
   },
   "outputs": [],
   "source": [
    "TRAIN_DIR=\"/kaggle/input/tomatoleaf/tomato/train/\"\n",
    "index=0\n",
    "data={}\n",
    "for FOLDER in os.listdir(TRAIN_DIR):\n",
    "    for image_dir in os.listdir(TRAIN_DIR+FOLDER):\n",
    "      if index not in data:\n",
    "        data[index]=[]\n",
    "      try:  \n",
    "        data[index].append(img_to_np(TRAIN_DIR+FOLDER+\"/\"+image_dir))\n",
    "      except:\n",
    "        print(\"Error to load the image \"+TRAIN_DIR+FOLDER+\"/\"+image_dir)\n",
    "    index=index+1  "
   ]
  },
  {
   "cell_type": "code",
   "execution_count": 6,
   "metadata": {
    "execution": {
     "iopub.execute_input": "2022-01-21T06:25:05.632967Z",
     "iopub.status.busy": "2022-01-21T06:25:05.632718Z",
     "iopub.status.idle": "2022-01-21T06:25:05.645011Z",
     "shell.execute_reply": "2022-01-21T06:25:05.644167Z",
     "shell.execute_reply.started": "2022-01-21T06:25:05.632940Z"
    }
   },
   "outputs": [
    {
     "data": {
      "text/plain": [
       "array([[1, 0, 0, 0, 0, 0, 0, 0, 0, 0],\n",
       "       [0, 1, 0, 0, 0, 0, 0, 0, 0, 0],\n",
       "       [0, 0, 1, 0, 0, 0, 0, 0, 0, 0],\n",
       "       [0, 0, 0, 1, 0, 0, 0, 0, 0, 0],\n",
       "       [0, 0, 0, 0, 1, 0, 0, 0, 0, 0],\n",
       "       [0, 0, 0, 0, 0, 1, 0, 0, 0, 0],\n",
       "       [0, 0, 0, 0, 0, 0, 1, 0, 0, 0],\n",
       "       [0, 0, 0, 0, 0, 0, 0, 1, 0, 0],\n",
       "       [0, 0, 0, 0, 0, 0, 0, 0, 1, 0],\n",
       "       [0, 0, 0, 0, 0, 0, 0, 0, 0, 1]])"
      ]
     },
     "execution_count": 6,
     "metadata": {},
     "output_type": "execute_result"
    }
   ],
   "source": [
    "labelencoder = LabelBinarizer()\n",
    "label=labelencoder.fit_transform([0,1,2,3,4,5,6,7,8,9])\n",
    "label"
   ]
  },
  {
   "cell_type": "code",
   "execution_count": 7,
   "metadata": {
    "execution": {
     "iopub.execute_input": "2022-01-21T06:25:05.647204Z",
     "iopub.status.busy": "2022-01-21T06:25:05.646645Z",
     "iopub.status.idle": "2022-01-21T06:25:32.972728Z",
     "shell.execute_reply": "2022-01-21T06:25:32.971767Z",
     "shell.execute_reply.started": "2022-01-21T06:25:05.647161Z"
    }
   },
   "outputs": [
    {
     "name": "stdout",
     "output_type": "stream",
     "text": [
      "/kaggle/input/tomatoleaf/tomato/train/Tomato___Late_blight\n",
      "/kaggle/input/tomatoleaf/tomato/train/Tomato___healthy\n",
      "/kaggle/input/tomatoleaf/tomato/train/Tomato___Early_blight\n",
      "/kaggle/input/tomatoleaf/tomato/train/Tomato___Septoria_leaf_spot\n",
      "/kaggle/input/tomatoleaf/tomato/train/Tomato___Tomato_Yellow_Leaf_Curl_Virus\n",
      "/kaggle/input/tomatoleaf/tomato/train/Tomato___Bacterial_spot\n",
      "/kaggle/input/tomatoleaf/tomato/train/Tomato___Target_Spot\n",
      "/kaggle/input/tomatoleaf/tomato/train/Tomato___Tomato_mosaic_virus\n",
      "/kaggle/input/tomatoleaf/tomato/train/Tomato___Leaf_Mold\n",
      "/kaggle/input/tomatoleaf/tomato/train/Tomato___Spider_mites Two-spotted_spider_mite\n"
     ]
    }
   ],
   "source": [
    "TRAIN_DIR=\"/kaggle/input/tomatoleaf/tomato/train/\"\n",
    "index=0\n",
    "data=[]\n",
    "for FOLDER in os.listdir(TRAIN_DIR):\n",
    "    print(TRAIN_DIR+FOLDER)\n",
    "    for image_dir in os.listdir(TRAIN_DIR+FOLDER):\n",
    "      data.append({\"x\":img_to_np(TRAIN_DIR+FOLDER+\"/\"+image_dir,flatten=False),\"y\":label[index]})\n",
    "    index=index+1\n",
    "x,y=[],[]\n",
    "for obj in data:\n",
    "  x.append(obj[\"x\"])\n",
    "  y.append(obj[\"y\"])\n",
    "x_train = np.array(x,dtype=np.float16)\n",
    "y_train = np.array(y,dtype=np.float16)       "
   ]
  },
  {
   "cell_type": "code",
   "execution_count": 8,
   "metadata": {
    "execution": {
     "iopub.execute_input": "2022-01-21T06:25:32.977827Z",
     "iopub.status.busy": "2022-01-21T06:25:32.977524Z",
     "iopub.status.idle": "2022-01-21T06:25:40.049834Z",
     "shell.execute_reply": "2022-01-21T06:25:40.048973Z",
     "shell.execute_reply.started": "2022-01-21T06:25:32.977793Z"
    }
   },
   "outputs": [
    {
     "name": "stdout",
     "output_type": "stream",
     "text": [
      "/kaggle/input/tomatoleaf/tomato/val/Tomato___Late_blight\n",
      "/kaggle/input/tomatoleaf/tomato/val/Tomato___healthy\n",
      "/kaggle/input/tomatoleaf/tomato/val/Tomato___Early_blight\n",
      "/kaggle/input/tomatoleaf/tomato/val/Tomato___Septoria_leaf_spot\n",
      "/kaggle/input/tomatoleaf/tomato/val/Tomato___Tomato_Yellow_Leaf_Curl_Virus\n",
      "/kaggle/input/tomatoleaf/tomato/val/Tomato___Bacterial_spot\n",
      "/kaggle/input/tomatoleaf/tomato/val/Tomato___Target_Spot\n",
      "/kaggle/input/tomatoleaf/tomato/val/Tomato___Tomato_mosaic_virus\n",
      "/kaggle/input/tomatoleaf/tomato/val/Tomato___Leaf_Mold\n",
      "/kaggle/input/tomatoleaf/tomato/val/Tomato___Spider_mites Two-spotted_spider_mite\n"
     ]
    }
   ],
   "source": [
    "TEST_DIR=\"/kaggle/input/tomatoleaf/tomato/val/\"\n",
    "index=0\n",
    "data=[]\n",
    "for FOLDER in os.listdir(TEST_DIR):\n",
    "    print(TEST_DIR+FOLDER)\n",
    "    for image_dir in os.listdir(TEST_DIR+FOLDER):\n",
    "      data.append({\"x\":img_to_np(TEST_DIR+FOLDER+\"/\"+image_dir,flatten=False),\"y\":label[index]})\n",
    "    index=index+1\n",
    "x,y=[],[]\n",
    "for obj in data:\n",
    "  x.append(obj[\"x\"])\n",
    "  y.append(obj[\"y\"])\n",
    "x_test = np.array(x,dtype=np.float16)\n",
    "y_test = np.array(y,dtype=np.float16)  "
   ]
  },
  {
   "cell_type": "code",
   "execution_count": 9,
   "metadata": {
    "execution": {
     "iopub.execute_input": "2022-01-21T06:25:40.051419Z",
     "iopub.status.busy": "2022-01-21T06:25:40.051144Z",
     "iopub.status.idle": "2022-01-21T06:25:40.070553Z",
     "shell.execute_reply": "2022-01-21T06:25:40.069937Z",
     "shell.execute_reply.started": "2022-01-21T06:25:40.051387Z"
    }
   },
   "outputs": [],
   "source": [
    "from tensorflow.keras.models import Sequential\n",
    "from tensorflow.keras.layers import Dense, Dropout, Flatten, Conv2D, MaxPool2D, BatchNormalization,MaxPooling2D,BatchNormalization,\\\n",
    "                        Permute, TimeDistributed, Bidirectional,GRU, SimpleRNN, LSTM, GlobalAveragePooling2D, SeparableConv2D\n",
    "from keras import models\n",
    "from keras import layers\n",
    "import tensorflow as tf\n",
    "from keras.applications import VGG16,VGG19,inception_v3\n",
    "from keras import backend as K"
   ]
  },
  {
   "cell_type": "code",
   "execution_count": 10,
   "metadata": {
    "execution": {
     "iopub.execute_input": "2022-01-21T06:25:40.072426Z",
     "iopub.status.busy": "2022-01-21T06:25:40.072134Z",
     "iopub.status.idle": "2022-01-21T06:25:42.195579Z",
     "shell.execute_reply": "2022-01-21T06:25:42.194864Z",
     "shell.execute_reply.started": "2022-01-21T06:25:40.072391Z"
    }
   },
   "outputs": [
    {
     "name": "stdout",
     "output_type": "stream",
     "text": [
      "Model: \"sequential\"\n",
      "_________________________________________________________________\n",
      "Layer (type)                 Output Shape              Param #   \n",
      "=================================================================\n",
      "separable_conv2d (SeparableC (None, 218, 218, 32)      155       \n",
      "_________________________________________________________________\n",
      "batch_normalization (BatchNo (None, 218, 218, 32)      128       \n",
      "_________________________________________________________________\n",
      "max_pooling2d (MaxPooling2D) (None, 109, 109, 32)      0         \n",
      "_________________________________________________________________\n",
      "separable_conv2d_1 (Separabl (None, 107, 107, 64)      2400      \n",
      "_________________________________________________________________\n",
      "separable_conv2d_2 (Separabl (None, 105, 105, 128)     8896      \n",
      "_________________________________________________________________\n",
      "batch_normalization_1 (Batch (None, 105, 105, 128)     512       \n",
      "_________________________________________________________________\n",
      "max_pooling2d_1 (MaxPooling2 (None, 52, 52, 128)       0         \n",
      "_________________________________________________________________\n",
      "dropout (Dropout)            (None, 52, 52, 128)       0         \n",
      "_________________________________________________________________\n",
      "separable_conv2d_3 (Separabl (None, 50, 50, 128)       17664     \n",
      "_________________________________________________________________\n",
      "separable_conv2d_4 (Separabl (None, 48, 48, 256)       34176     \n",
      "_________________________________________________________________\n",
      "batch_normalization_2 (Batch (None, 48, 48, 256)       1024      \n",
      "_________________________________________________________________\n",
      "max_pooling2d_2 (MaxPooling2 (None, 24, 24, 256)       0         \n",
      "_________________________________________________________________\n",
      "dropout_1 (Dropout)          (None, 24, 24, 256)       0         \n",
      "_________________________________________________________________\n",
      "global_average_pooling2d (Gl (None, 256)               0         \n",
      "_________________________________________________________________\n",
      "flatten (Flatten)            (None, 256)               0         \n",
      "_________________________________________________________________\n",
      "dense (Dense)                (None, 1024)              263168    \n",
      "_________________________________________________________________\n",
      "dropout_2 (Dropout)          (None, 1024)              0         \n",
      "_________________________________________________________________\n",
      "dense_1 (Dense)              (None, 10)                10250     \n",
      "=================================================================\n",
      "Total params: 338,373\n",
      "Trainable params: 337,541\n",
      "Non-trainable params: 832\n",
      "_________________________________________________________________\n"
     ]
    }
   ],
   "source": [
    "\n",
    "Model = Sequential()\n",
    "\n",
    "Model.add(SeparableConv2D(32,3,\n",
    "                          activation=\"relu\",\n",
    "                 input_shape=(220,220,3)))\n",
    "Model.add(BatchNormalization())\n",
    "Model.add(MaxPooling2D((2)))\n",
    "\n",
    "#\n",
    "Model.add(SeparableConv2D(64,3,\n",
    "                 activation=\"relu\"))\n",
    "Model.add(SeparableConv2D(128,(3,3),\n",
    "                 activation=\"relu\"))\n",
    "Model.add(BatchNormalization())\n",
    "Model.add(MaxPooling2D((2)))\n",
    "Model.add(Dropout(0.25))\n",
    "#\n",
    "Model.add(SeparableConv2D(128,3,\n",
    "                 activation=\"relu\"))\n",
    "Model.add(SeparableConv2D(256,(3,3),\n",
    "                 activation=\"relu\"))\n",
    "Model.add(BatchNormalization())\n",
    "Model.add(MaxPooling2D((2)))\n",
    "Model.add(Dropout(0.25))\n",
    "Model.add(GlobalAveragePooling2D())\n",
    "\n",
    "#\n",
    "Model.add(Flatten())\n",
    "Model.add(Dense(1024,\n",
    "                activation=\"relu\"))\n",
    "Model.add(Dropout(0.25))\n",
    "Model.add(Dense(10,\n",
    "                activation=\"softmax\"))\n",
    "\n",
    "Model.summary()"
   ]
  },
  {
   "cell_type": "code",
   "execution_count": 11,
   "metadata": {
    "execution": {
     "iopub.execute_input": "2022-01-21T06:25:42.198724Z",
     "iopub.status.busy": "2022-01-21T06:25:42.198434Z",
     "iopub.status.idle": "2022-01-21T08:22:55.493130Z",
     "shell.execute_reply": "2022-01-21T08:22:55.492187Z",
     "shell.execute_reply.started": "2022-01-21T06:25:42.198690Z"
    }
   },
   "outputs": [
    {
     "name": "stdout",
     "output_type": "stream",
     "text": [
      "Train for 100 steps, validate on 1000 samples\n",
      "Epoch 1/100\n",
      "100/100 [==============================] - 74s 740ms/step - loss: 0.1803 - accuracy: 0.9327 - val_loss: 0.3262 - val_accuracy: 0.9000\n",
      "Epoch 2/100\n",
      "100/100 [==============================] - 70s 704ms/step - loss: 0.0863 - accuracy: 0.9658 - val_loss: 0.3428 - val_accuracy: 0.9000\n",
      "Epoch 3/100\n",
      "100/100 [==============================] - 70s 704ms/step - loss: 0.0611 - accuracy: 0.9765 - val_loss: 0.4171 - val_accuracy: 0.8409\n",
      "Epoch 4/100\n",
      "100/100 [==============================] - 70s 704ms/step - loss: 0.0475 - accuracy: 0.9825 - val_loss: 0.4733 - val_accuracy: 0.8498\n",
      "Epoch 5/100\n",
      "100/100 [==============================] - 70s 702ms/step - loss: 0.0403 - accuracy: 0.9849 - val_loss: 0.1680 - val_accuracy: 0.9355\n",
      "Epoch 6/100\n",
      "100/100 [==============================] - 70s 702ms/step - loss: 0.0333 - accuracy: 0.9873 - val_loss: 0.2249 - val_accuracy: 0.9282\n",
      "Epoch 7/100\n",
      "100/100 [==============================] - 70s 702ms/step - loss: 0.0318 - accuracy: 0.9881 - val_loss: 0.1754 - val_accuracy: 0.9432\n",
      "Epoch 8/100\n",
      "100/100 [==============================] - 70s 703ms/step - loss: 0.0292 - accuracy: 0.9887 - val_loss: 0.1248 - val_accuracy: 0.9560\n",
      "Epoch 9/100\n",
      "100/100 [==============================] - 70s 702ms/step - loss: 0.0229 - accuracy: 0.9916 - val_loss: 0.1238 - val_accuracy: 0.9621\n",
      "Epoch 10/100\n",
      "100/100 [==============================] - 70s 703ms/step - loss: 0.0186 - accuracy: 0.9930 - val_loss: 0.0499 - val_accuracy: 0.9824\n",
      "Epoch 11/100\n",
      "100/100 [==============================] - 70s 704ms/step - loss: 0.0175 - accuracy: 0.9937 - val_loss: 0.0602 - val_accuracy: 0.9788\n",
      "Epoch 12/100\n",
      "100/100 [==============================] - 70s 701ms/step - loss: 0.0169 - accuracy: 0.9939 - val_loss: 0.0969 - val_accuracy: 0.9681\n",
      "Epoch 13/100\n",
      "100/100 [==============================] - 70s 702ms/step - loss: 0.0162 - accuracy: 0.9941 - val_loss: 0.0632 - val_accuracy: 0.9785\n",
      "Epoch 14/100\n",
      "100/100 [==============================] - 70s 703ms/step - loss: 0.0143 - accuracy: 0.9948 - val_loss: 0.0620 - val_accuracy: 0.9766\n",
      "Epoch 15/100\n",
      "100/100 [==============================] - 70s 702ms/step - loss: 0.0121 - accuracy: 0.9959 - val_loss: 0.3031 - val_accuracy: 0.9400\n",
      "Epoch 16/100\n",
      "100/100 [==============================] - 70s 703ms/step - loss: 0.0127 - accuracy: 0.9955 - val_loss: 0.0678 - val_accuracy: 0.9770\n",
      "Epoch 17/100\n",
      "100/100 [==============================] - 70s 702ms/step - loss: 0.0104 - accuracy: 0.9963 - val_loss: 0.0509 - val_accuracy: 0.9858\n",
      "Epoch 18/100\n",
      "100/100 [==============================] - 70s 701ms/step - loss: 0.0093 - accuracy: 0.9967 - val_loss: 0.1384 - val_accuracy: 0.9610\n",
      "Epoch 19/100\n",
      "100/100 [==============================] - 70s 701ms/step - loss: 0.0101 - accuracy: 0.9964 - val_loss: 0.1429 - val_accuracy: 0.9567\n",
      "Epoch 20/100\n",
      "100/100 [==============================] - 70s 703ms/step - loss: 0.0094 - accuracy: 0.9967 - val_loss: 0.0460 - val_accuracy: 0.9858\n",
      "Epoch 21/100\n",
      "100/100 [==============================] - 70s 702ms/step - loss: 0.0080 - accuracy: 0.9973 - val_loss: 0.0540 - val_accuracy: 0.9826\n",
      "Epoch 22/100\n",
      "100/100 [==============================] - 70s 703ms/step - loss: 0.0086 - accuracy: 0.9970 - val_loss: 0.0661 - val_accuracy: 0.9792\n",
      "Epoch 23/100\n",
      "100/100 [==============================] - 70s 702ms/step - loss: 0.0069 - accuracy: 0.9978 - val_loss: 0.0420 - val_accuracy: 0.9869\n",
      "Epoch 24/100\n",
      "100/100 [==============================] - 70s 703ms/step - loss: 0.0074 - accuracy: 0.9974 - val_loss: 0.0659 - val_accuracy: 0.9816\n",
      "Epoch 25/100\n",
      "100/100 [==============================] - 70s 701ms/step - loss: 0.0060 - accuracy: 0.9980 - val_loss: 0.1230 - val_accuracy: 0.9700\n",
      "Epoch 26/100\n",
      "100/100 [==============================] - 70s 703ms/step - loss: 0.0083 - accuracy: 0.9972 - val_loss: 0.2196 - val_accuracy: 0.9556\n",
      "Epoch 27/100\n",
      "100/100 [==============================] - 70s 703ms/step - loss: 0.0087 - accuracy: 0.9968 - val_loss: 0.0401 - val_accuracy: 0.9877\n",
      "Epoch 28/100\n",
      "100/100 [==============================] - 70s 701ms/step - loss: 0.0082 - accuracy: 0.9972 - val_loss: 0.1882 - val_accuracy: 0.9542\n",
      "Epoch 29/100\n",
      "100/100 [==============================] - 70s 703ms/step - loss: 0.0056 - accuracy: 0.9980 - val_loss: 0.0753 - val_accuracy: 0.9766\n",
      "Epoch 30/100\n",
      "100/100 [==============================] - 70s 703ms/step - loss: 0.0045 - accuracy: 0.9985 - val_loss: 0.0496 - val_accuracy: 0.9875\n",
      "Epoch 31/100\n",
      "100/100 [==============================] - 70s 702ms/step - loss: 0.0042 - accuracy: 0.9985 - val_loss: 0.0462 - val_accuracy: 0.9871\n",
      "Epoch 32/100\n",
      "100/100 [==============================] - 70s 703ms/step - loss: 0.0035 - accuracy: 0.9989 - val_loss: 0.0497 - val_accuracy: 0.9853\n",
      "Epoch 33/100\n",
      "100/100 [==============================] - 70s 703ms/step - loss: 0.0035 - accuracy: 0.9988 - val_loss: 0.0386 - val_accuracy: 0.9876\n",
      "Epoch 34/100\n",
      "100/100 [==============================] - 70s 701ms/step - loss: 0.0042 - accuracy: 0.9985 - val_loss: 0.0888 - val_accuracy: 0.9795\n",
      "Epoch 35/100\n",
      "100/100 [==============================] - 70s 702ms/step - loss: 0.0023 - accuracy: 0.9992 - val_loss: 0.0724 - val_accuracy: 0.9791\n",
      "Epoch 36/100\n",
      "100/100 [==============================] - 70s 702ms/step - loss: 0.0023 - accuracy: 0.9992 - val_loss: 0.0200 - val_accuracy: 0.9925\n",
      "Epoch 37/100\n",
      "100/100 [==============================] - 70s 702ms/step - loss: 0.0067 - accuracy: 0.9974 - val_loss: 0.0805 - val_accuracy: 0.9773\n",
      "Epoch 38/100\n",
      "100/100 [==============================] - 70s 701ms/step - loss: 0.0075 - accuracy: 0.9973 - val_loss: 0.2137 - val_accuracy: 0.9614\n",
      "Epoch 39/100\n",
      "100/100 [==============================] - 70s 702ms/step - loss: 0.0044 - accuracy: 0.9986 - val_loss: 0.6684 - val_accuracy: 0.9078\n",
      "Epoch 40/100\n",
      "100/100 [==============================] - 70s 702ms/step - loss: 0.0055 - accuracy: 0.9980 - val_loss: 0.0697 - val_accuracy: 0.9827\n",
      "Epoch 41/100\n",
      "100/100 [==============================] - 70s 702ms/step - loss: 0.0056 - accuracy: 0.9981 - val_loss: 0.4816 - val_accuracy: 0.9273\n",
      "Epoch 42/100\n",
      "100/100 [==============================] - 70s 702ms/step - loss: 0.0033 - accuracy: 0.9988 - val_loss: 0.0228 - val_accuracy: 0.9930\n",
      "Epoch 43/100\n",
      "100/100 [==============================] - 70s 704ms/step - loss: 0.0023 - accuracy: 0.9994 - val_loss: 0.0144 - val_accuracy: 0.9949\n",
      "Epoch 44/100\n",
      "100/100 [==============================] - 70s 702ms/step - loss: 0.0020 - accuracy: 0.9995 - val_loss: 0.1411 - val_accuracy: 0.9713\n",
      "Epoch 45/100\n",
      "100/100 [==============================] - 70s 702ms/step - loss: 0.0015 - accuracy: 0.9995 - val_loss: 0.0150 - val_accuracy: 0.9952\n",
      "Epoch 46/100\n",
      "100/100 [==============================] - 70s 703ms/step - loss: 0.0013 - accuracy: 0.9996 - val_loss: 0.0168 - val_accuracy: 0.9934\n",
      "Epoch 47/100\n",
      "100/100 [==============================] - 70s 702ms/step - loss: 0.0068 - accuracy: 0.9978 - val_loss: 0.1420 - val_accuracy: 0.9651\n",
      "Epoch 48/100\n",
      "100/100 [==============================] - 70s 703ms/step - loss: 0.0066 - accuracy: 0.9978 - val_loss: 0.0580 - val_accuracy: 0.9853\n",
      "Epoch 49/100\n",
      "100/100 [==============================] - 70s 701ms/step - loss: 0.0026 - accuracy: 0.9993 - val_loss: 0.0205 - val_accuracy: 0.9933\n",
      "Epoch 50/100\n",
      "100/100 [==============================] - 70s 702ms/step - loss: 0.0020 - accuracy: 0.9994 - val_loss: 0.0915 - val_accuracy: 0.9806\n",
      "Epoch 51/100\n",
      "100/100 [==============================] - 70s 702ms/step - loss: 0.0012 - accuracy: 0.9997 - val_loss: 0.0641 - val_accuracy: 0.9852\n",
      "Epoch 52/100\n",
      "100/100 [==============================] - 70s 702ms/step - loss: 0.0019 - accuracy: 0.9993 - val_loss: 0.2777 - val_accuracy: 0.9518\n",
      "Epoch 53/100\n",
      "100/100 [==============================] - 70s 701ms/step - loss: 0.0033 - accuracy: 0.9988 - val_loss: 0.6079 - val_accuracy: 0.9193\n",
      "Epoch 54/100\n",
      "100/100 [==============================] - 70s 702ms/step - loss: 0.0068 - accuracy: 0.9978 - val_loss: 0.1312 - val_accuracy: 0.9711\n",
      "Epoch 55/100\n",
      "100/100 [==============================] - 70s 701ms/step - loss: 0.0051 - accuracy: 0.9981 - val_loss: 0.8404 - val_accuracy: 0.8991\n",
      "Epoch 56/100\n",
      "100/100 [==============================] - 70s 704ms/step - loss: 0.0052 - accuracy: 0.9981 - val_loss: 0.7881 - val_accuracy: 0.9028\n",
      "Epoch 57/100\n",
      "100/100 [==============================] - 70s 702ms/step - loss: 0.0017 - accuracy: 0.9994 - val_loss: 0.1689 - val_accuracy: 0.9661\n",
      "Epoch 58/100\n",
      "100/100 [==============================] - 70s 703ms/step - loss: 6.4130e-04 - accuracy: 0.9999 - val_loss: 0.0263 - val_accuracy: 0.9917\n",
      "Epoch 59/100\n",
      "100/100 [==============================] - 70s 703ms/step - loss: 8.8975e-04 - accuracy: 0.9997 - val_loss: 0.0798 - val_accuracy: 0.9802\n",
      "Epoch 60/100\n",
      "100/100 [==============================] - 70s 701ms/step - loss: 4.0471e-04 - accuracy: 0.9999 - val_loss: 0.1929 - val_accuracy: 0.9585\n",
      "Epoch 61/100\n",
      "100/100 [==============================] - 70s 703ms/step - loss: 0.0010 - accuracy: 0.9998 - val_loss: 0.0167 - val_accuracy: 0.9942\n",
      "Epoch 62/100\n",
      "100/100 [==============================] - 70s 701ms/step - loss: 0.0036 - accuracy: 0.9987 - val_loss: 0.1333 - val_accuracy: 0.9735\n",
      "Epoch 63/100\n",
      "100/100 [==============================] - 70s 702ms/step - loss: 0.0053 - accuracy: 0.9982 - val_loss: 0.4503 - val_accuracy: 0.9331\n",
      "Epoch 64/100\n",
      "100/100 [==============================] - 70s 702ms/step - loss: 0.0024 - accuracy: 0.9992 - val_loss: 0.1311 - val_accuracy: 0.9724\n",
      "Epoch 65/100\n",
      "100/100 [==============================] - 70s 703ms/step - loss: 0.0021 - accuracy: 0.9994 - val_loss: 0.0162 - val_accuracy: 0.9937\n",
      "Epoch 66/100\n",
      "100/100 [==============================] - 70s 702ms/step - loss: 0.0024 - accuracy: 0.9992 - val_loss: 0.2021 - val_accuracy: 0.9590\n",
      "Epoch 67/100\n",
      "100/100 [==============================] - 70s 701ms/step - loss: 0.0028 - accuracy: 0.9991 - val_loss: 0.0691 - val_accuracy: 0.9847\n",
      "Epoch 68/100\n",
      "100/100 [==============================] - 70s 702ms/step - loss: 0.0039 - accuracy: 0.9987 - val_loss: 0.0199 - val_accuracy: 0.9931\n",
      "Epoch 69/100\n",
      "100/100 [==============================] - 70s 701ms/step - loss: 0.0034 - accuracy: 0.9991 - val_loss: 0.1757 - val_accuracy: 0.9685\n",
      "Epoch 70/100\n",
      "100/100 [==============================] - 70s 702ms/step - loss: 9.9287e-04 - accuracy: 0.9998 - val_loss: 0.0095 - val_accuracy: 0.9964\n",
      "Epoch 71/100\n",
      "100/100 [==============================] - 70s 703ms/step - loss: 5.3093e-04 - accuracy: 0.9999 - val_loss: 0.0633 - val_accuracy: 0.9862\n",
      "Epoch 72/100\n",
      "100/100 [==============================] - 70s 702ms/step - loss: 5.0168e-04 - accuracy: 0.9999 - val_loss: 0.0633 - val_accuracy: 0.9851\n",
      "Epoch 73/100\n",
      "100/100 [==============================] - 70s 702ms/step - loss: 6.4098e-04 - accuracy: 0.9998 - val_loss: 0.1139 - val_accuracy: 0.9763\n",
      "Epoch 74/100\n",
      "100/100 [==============================] - 70s 702ms/step - loss: 8.4501e-04 - accuracy: 0.9998 - val_loss: 0.0087 - val_accuracy: 0.9966\n",
      "Epoch 75/100\n",
      "100/100 [==============================] - 70s 702ms/step - loss: 7.2625e-04 - accuracy: 0.9998 - val_loss: 0.1041 - val_accuracy: 0.9784\n",
      "Epoch 76/100\n",
      "100/100 [==============================] - 70s 703ms/step - loss: 6.2405e-04 - accuracy: 0.9997 - val_loss: 0.1110 - val_accuracy: 0.9794\n",
      "Epoch 77/100\n",
      "100/100 [==============================] - 70s 702ms/step - loss: 0.0014 - accuracy: 0.9995 - val_loss: 0.4505 - val_accuracy: 0.9350\n",
      "Epoch 78/100\n",
      "100/100 [==============================] - 70s 703ms/step - loss: 0.0099 - accuracy: 0.9971 - val_loss: 0.3329 - val_accuracy: 0.9476\n",
      "Epoch 79/100\n",
      "100/100 [==============================] - 70s 701ms/step - loss: 0.0099 - accuracy: 0.9968 - val_loss: 0.0519 - val_accuracy: 0.9862\n",
      "Epoch 80/100\n",
      "100/100 [==============================] - 70s 702ms/step - loss: 0.0047 - accuracy: 0.9987 - val_loss: 0.0475 - val_accuracy: 0.9867\n",
      "Epoch 81/100\n",
      "100/100 [==============================] - 70s 702ms/step - loss: 0.0016 - accuracy: 0.9996 - val_loss: 0.2066 - val_accuracy: 0.9668\n",
      "Epoch 82/100\n",
      "100/100 [==============================] - 70s 702ms/step - loss: 0.0012 - accuracy: 0.9996 - val_loss: 0.0147 - val_accuracy: 0.9946\n",
      "Epoch 83/100\n",
      "100/100 [==============================] - 70s 705ms/step - loss: 7.3569e-04 - accuracy: 0.9998 - val_loss: 0.0355 - val_accuracy: 0.9914\n",
      "Epoch 84/100\n",
      "100/100 [==============================] - 70s 702ms/step - loss: 8.8531e-04 - accuracy: 0.9997 - val_loss: 0.0093 - val_accuracy: 0.9976\n",
      "Epoch 85/100\n",
      "100/100 [==============================] - 70s 703ms/step - loss: 4.3263e-04 - accuracy: 0.9998 - val_loss: 0.0534 - val_accuracy: 0.9868\n",
      "Epoch 86/100\n",
      "100/100 [==============================] - 70s 702ms/step - loss: 3.2342e-04 - accuracy: 0.9999 - val_loss: 0.2001 - val_accuracy: 0.9663\n",
      "Epoch 87/100\n",
      "100/100 [==============================] - 70s 701ms/step - loss: 9.1706e-04 - accuracy: 0.9997 - val_loss: 0.5324 - val_accuracy: 0.9309\n",
      "Epoch 88/100\n",
      "100/100 [==============================] - 70s 702ms/step - loss: 0.0050 - accuracy: 0.9986 - val_loss: 0.0740 - val_accuracy: 0.9844\n",
      "Epoch 89/100\n",
      "100/100 [==============================] - 70s 703ms/step - loss: 0.0059 - accuracy: 0.9979 - val_loss: 0.1338 - val_accuracy: 0.9735\n",
      "Epoch 90/100\n",
      "100/100 [==============================] - 70s 702ms/step - loss: 0.0031 - accuracy: 0.9991 - val_loss: 0.0480 - val_accuracy: 0.9883\n",
      "Epoch 91/100\n",
      "100/100 [==============================] - 70s 702ms/step - loss: 0.0014 - accuracy: 0.9995 - val_loss: 0.2394 - val_accuracy: 0.9607\n",
      "Epoch 92/100\n",
      "100/100 [==============================] - 70s 702ms/step - loss: 7.1333e-04 - accuracy: 0.9998 - val_loss: 0.0279 - val_accuracy: 0.9927\n",
      "Epoch 93/100\n",
      "100/100 [==============================] - 70s 701ms/step - loss: 2.7871e-04 - accuracy: 0.9999 - val_loss: 0.0080 - val_accuracy: 0.9974\n",
      "Epoch 94/100\n",
      "100/100 [==============================] - 70s 702ms/step - loss: 3.6932e-04 - accuracy: 0.9999 - val_loss: 0.4345 - val_accuracy: 0.9323\n",
      "Epoch 95/100\n",
      "100/100 [==============================] - 70s 702ms/step - loss: 9.1935e-04 - accuracy: 0.9997 - val_loss: 0.0869 - val_accuracy: 0.9811\n",
      "Epoch 96/100\n",
      "100/100 [==============================] - 70s 702ms/step - loss: 0.0025 - accuracy: 0.9991 - val_loss: 1.0753 - val_accuracy: 0.8839\n",
      "Epoch 97/100\n",
      "100/100 [==============================] - 70s 701ms/step - loss: 0.0050 - accuracy: 0.9984 - val_loss: 0.1855 - val_accuracy: 0.9626\n",
      "Epoch 98/100\n",
      "100/100 [==============================] - 70s 701ms/step - loss: 0.0029 - accuracy: 0.9989 - val_loss: 0.0890 - val_accuracy: 0.9842\n",
      "Epoch 99/100\n",
      "100/100 [==============================] - 70s 702ms/step - loss: 5.7205e-04 - accuracy: 0.9998 - val_loss: 0.0264 - val_accuracy: 0.9933\n",
      "Epoch 100/100\n",
      "100/100 [==============================] - 70s 703ms/step - loss: 3.7674e-04 - accuracy: 0.9999 - val_loss: 0.0415 - val_accuracy: 0.9904\n"
     ]
    }
   ],
   "source": [
    "Model.compile(loss=\"binary_crossentropy\", optimizer=\"adam\",metrics=[\"accuracy\"])\n",
    "aug = ImageDataGenerator(fill_mode=\"nearest\")\n",
    "model_history = Model.fit_generator(\n",
    "        aug.flow(x_train, y_train, batch_size=100),\n",
    "        validation_data=(x_test, y_test),\n",
    "        epochs=100, verbose=1\n",
    ")    "
   ]
  },
  {
   "cell_type": "code",
   "execution_count": 12,
   "metadata": {
    "execution": {
     "iopub.execute_input": "2022-01-21T08:22:55.495143Z",
     "iopub.status.busy": "2022-01-21T08:22:55.494867Z",
     "iopub.status.idle": "2022-01-21T08:22:55.581478Z",
     "shell.execute_reply": "2022-01-21T08:22:55.580705Z",
     "shell.execute_reply.started": "2022-01-21T08:22:55.495109Z"
    }
   },
   "outputs": [],
   "source": [
    "Model.save(\"/kaggle/working/model.h5\")"
   ]
  },
  {
   "cell_type": "code",
   "execution_count": 13,
   "metadata": {
    "execution": {
     "iopub.execute_input": "2022-01-21T08:22:55.583148Z",
     "iopub.status.busy": "2022-01-21T08:22:55.582837Z",
     "iopub.status.idle": "2022-01-21T08:22:56.654940Z",
     "shell.execute_reply": "2022-01-21T08:22:56.654240Z",
     "shell.execute_reply.started": "2022-01-21T08:22:55.583113Z"
    }
   },
   "outputs": [
    {
     "name": "stdout",
     "output_type": "stream",
     "text": [
      "1000/1000 [==============================] - 1s 1ms/sample - loss: 0.0415 - accuracy: 0.9904\n",
      "Accuracy is :99.04000163078308 %\n"
     ]
    }
   ],
   "source": [
    "scores = Model.evaluate(x_test, y_test)\n",
    "print(\"Accuracy is :\"+str(scores[1]*100)+\" %\")"
   ]
  },
  {
   "cell_type": "code",
   "execution_count": 14,
   "metadata": {
    "execution": {
     "iopub.execute_input": "2022-01-21T08:22:56.658325Z",
     "iopub.status.busy": "2022-01-21T08:22:56.658095Z",
     "iopub.status.idle": "2022-01-21T08:22:56.850041Z",
     "shell.execute_reply": "2022-01-21T08:22:56.849178Z",
     "shell.execute_reply.started": "2022-01-21T08:22:56.658299Z"
    }
   },
   "outputs": [
    {
     "data": {
      "text/plain": [
       "'Tomato___healthy'"
      ]
     },
     "execution_count": 14,
     "metadata": {},
     "output_type": "execute_result"
    }
   ],
   "source": [
    "arr=img_to_np(\"/kaggle/input/tomatoleaf/tomato/val/Tomato___healthy/0cb10f98-491d-4e1f-b8ea-4fb0f1b3675f___GH_HL Leaf 333.JPG\",flatten=False)\n",
    "arr=arr.reshape(1,220,220,3)\n",
    "labels[labelencoder.inverse_transform(Model.predict(arr))[0]]"
   ]
  },
  {
   "cell_type": "code",
   "execution_count": 15,
   "metadata": {
    "execution": {
     "iopub.execute_input": "2022-01-21T08:22:56.851946Z",
     "iopub.status.busy": "2022-01-21T08:22:56.851457Z",
     "iopub.status.idle": "2022-01-21T08:22:57.344657Z",
     "shell.execute_reply": "2022-01-21T08:22:57.343143Z",
     "shell.execute_reply.started": "2022-01-21T08:22:56.851908Z"
    }
   },
   "outputs": [
    {
     "data": {
      "image/png": "[encoded data removed]",
      "text/plain": [
       "<Figure size 1440x360 with 2 Axes>"
      ]
     },
     "metadata": {
      "needs_background": "light"
     },
     "output_type": "display_data"
    }
   ],
   "source": [
    "EPOCHS=100\n",
    "plt.figure(figsize=(20,5))\n",
    "plt.subplot(1,2,1)\n",
    "plt.title(\"Train and Validation Loss\")\n",
    "plt.xlabel(\"Epoch\")\n",
    "plt.ylabel(\"Loss\")\n",
    "plt.plot(range(EPOCHS),model_history.history['loss'],label=\"Train Loss\")\n",
    "plt.plot(range(EPOCHS),model_history.history['val_loss'], label=\"Validation Loss\")\n",
    "plt.legend()\n",
    "\n",
    "plt.subplot(1,2,2)\n",
    "plt.title(\"Train and Validation Accuracy\")\n",
    "plt.xlabel(\"Epoch\")\n",
    "plt.ylabel(\"Accuracy\")\n",
    "plt.plot(range(EPOCHS),model_history.history['accuracy'], label=\"Train Accuracy\")\n",
    "plt.plot(range(EPOCHS),model_history.history['val_accuracy'], label=\"Validation Accuracy\")\n",
    "plt.legend()\n",
    "plt.tight_layout()"
   ]
  },
  {
   "cell_type": "code",
   "execution_count": null,
   "metadata": {},
   "outputs": [],
   "source": []
  },
  {
   "cell_type": "code",
   "execution_count": null,
   "metadata": {},
   "outputs": [],
   "source": []
  }
 ],
 "metadata": {
  "kernelspec": {
   "display_name": "Python 3 (ipykernel)",
   "language": "python",
   "name": "python3"
  },
  "language_info": {
   "codemirror_mode": {
    "name": "ipython",
    "version": 3
   },
   "file_extension": ".py",
   "mimetype": "text/x-python",
   "name": "python",
   "nbconvert_exporter": "python",
   "pygments_lexer": "ipython3",
   "version": "3.11.7"
  }
 },
 "nbformat": 4,
 "nbformat_minor": 4
}
